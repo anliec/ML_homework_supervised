{
 "cells": [
  {
   "cell_type": "code",
   "execution_count": 1,
   "metadata": {
    "collapsed": false
   },
   "outputs": [
    {
     "name": "stderr",
     "output_type": "stream",
     "text": [
      "Using TensorFlow backend.\n",
      "/usr/lib/python3.6/importlib/_bootstrap.py:219: RuntimeWarning: compiletime version 3.5 of module 'tensorflow.python.framework.fast_tensor_util' does not match runtime version 3.6\n",
      "  return f(*args, **kwds)\n"
     ]
    }
   ],
   "source": [
    "import matplotlib.pyplot as plt\n",
    "import seaborn as sns\n",
    "import numpy as np\n",
    "from src.utils import *\n",
    "sns.set()\n",
    "\n",
    "from src.boost import boost"
   ]
  },
  {
   "cell_type": "code",
   "execution_count": null,
   "metadata": {
    "collapsed": false
   },
   "outputs": [
    {
     "name": "stdout",
     "output_type": "stream",
     "text": [
      "Selected data set is creditcard with 213841 data (train: 213605 , test: 236 )\n"
     ]
    }
   ],
   "source": [
    "df, dd, ddi = boost(\"creditcard\",\n",
    "                    max_depth_values=range(1, 5, 1),\n",
    "                    n_estimators_values=range(10, 200, 10),\n",
    "                    min_sample_split_values=range(2, 10, 2),\n",
    "                    trainning_sizes=[-1])"
   ]
  },
  {
   "cell_type": "code",
   "execution_count": null,
   "metadata": {
    "collapsed": true
   },
   "outputs": [],
   "source": [
    "x_arg_name = 'max_depth'\n",
    "y_arg_name = 'score_type'\n",
    "z_arg_name = 'score_type'\n",
    "\n",
    "x_arg_id = ddi[x_arg_name]\n",
    "y_arg_id = ddi[y_arg_name]\n",
    "z_arg_id = ddi[z_arg_name]\n",
    "\n",
    "cd = consolidate_dict_data(dd, consolidate_argx=x_arg_id, argx_name=x_arg_name,\n",
    "                           consolidate_argy=y_arg_id, argy_name=y_arg_name,\n",
    "                           consolidate_argz=z_arg_id,\n",
    "                           filters=None)\n",
    "plt.figure()\n",
    "for a, d in cd.items():\n",
    "    plt.plot(d.get(x_arg_name),d.get('median'), \n",
    "             label=z_arg_name.replace('_',' ') + ' = ' + str(a).replace('_',' '))\n",
    "    plt.fill_between(d.get(x_arg_name), d.get('mean') - d.get('std'), d.get('mean') + d.get('std'), alpha=0.3)\n",
    "plt.ylabel('validation categorical accuracy')\n",
    "plt.xlabel(x_arg_name.replace('_',' '))\n",
    "plt.legend()\n",
    "#plt.title(\"Evolution of acuracy acording to the number of training examples\")\n",
    "plt.savefig(\"graphs/boost_creditcard_max_depth.png\")\n",
    "plt.show()"
   ]
  },
  {
   "cell_type": "code",
   "execution_count": null,
   "metadata": {
    "collapsed": true
   },
   "outputs": [],
   "source": [
    "x_arg_name = 'n_estimators'\n",
    "y_arg_name = 'score_type'\n",
    "z_arg_name = 'score_type'\n",
    "\n",
    "x_arg_id = ddi[x_arg_name]\n",
    "y_arg_id = ddi[y_arg_name]\n",
    "z_arg_id = ddi[z_arg_name]\n",
    "\n",
    "cd = consolidate_dict_data(dd, consolidate_argx=x_arg_id, argx_name=x_arg_name,\n",
    "                           consolidate_argy=y_arg_id, argy_name=y_arg_name,\n",
    "                           consolidate_argz=z_arg_id,\n",
    "                           filters=None)\n",
    "plt.figure()\n",
    "for a, d in cd.items():\n",
    "    plt.plot(d.get(x_arg_name),d.get('median'), \n",
    "             label=z_arg_name.replace('_',' ') + ' = ' + str(a).replace('_',' '))\n",
    "    plt.fill_between(d.get(x_arg_name), d.get('mean') - d.get('std'), d.get('mean') + d.get('std'), alpha=0.3)\n",
    "plt.ylabel('validation categorical accuracy')\n",
    "plt.xlabel(x_arg_name.replace('_',' '))\n",
    "plt.legend()\n",
    "#plt.title(\"Evolution of acuracy acording to the number of training examples\")\n",
    "plt.savefig(\"graphs/boost_creditcard_n_estimator.png\")\n",
    "plt.show()"
   ]
  }
 ],
 "metadata": {
  "kernelspec": {
   "display_name": "Python 3",
   "language": "python",
   "name": "python3"
  },
  "language_info": {
   "codemirror_mode": {
    "name": "ipython",
    "version": 3
   },
   "file_extension": ".py",
   "mimetype": "text/x-python",
   "name": "python",
   "nbconvert_exporter": "python",
   "pygments_lexer": "ipython3",
   "version": "3.6.3"
  }
 },
 "nbformat": 4,
 "nbformat_minor": 2
}
