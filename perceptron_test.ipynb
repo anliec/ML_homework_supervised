{
 "cells": [
  {
   "cell_type": "code",
   "execution_count": 1,
   "metadata": {
    "collapsed": false
   },
   "outputs": [
    {
     "name": "stderr",
     "output_type": "stream",
     "text": [
      "Using TensorFlow backend.\n",
      "/usr/lib/python3.6/importlib/_bootstrap.py:219: RuntimeWarning: compiletime version 3.5 of module 'tensorflow.python.framework.fast_tensor_util' does not match runtime version 3.6\n",
      "  return f(*args, **kwds)\n"
     ]
    }
   ],
   "source": [
    "from src.perceptron import perceptron\n",
    "import seaborn as sns\n",
    "import matplotlib.pyplot as plt\n",
    "import numpy as np\n",
    "np.random.seed(221)\n",
    "sns.set()"
   ]
  },
  {
   "cell_type": "code",
   "execution_count": 2,
   "metadata": {
    "collapsed": false
   },
   "outputs": [
    {
     "name": "stdout",
     "output_type": "stream",
     "text": [
      "Selected data set is creditcard with 10244 data (train: 10000 , test: 244 )\n"
     ]
    }
   ],
   "source": [
    "df, fd, fdi = perceptron(\"creditcard\", \n",
    "                         number_of_epoch=300, \n",
    "                         hidden_neurons=((), (15,), (10,), (5,), (10,5), (15,5)),\n",
    "                         use_batch_norm_values=(True,),\n",
    "                         optimizer_values=('rmsprop', ),\n",
    "                         activation_values=('sigmoid', 'relu', 'linear', 'selu'),\n",
    "                         training_sizes=(-1,)\n",
    "                         )"
   ]
  },
  {
   "cell_type": "code",
   "execution_count": null,
   "metadata": {
    "collapsed": false
   },
   "outputs": [],
   "source": [
    "#mpl.plot(df.get('epoch'), df.get('val_categorical_accuracy'), 'c-', df.get('epoch'), df.get('categorical_accuracy'), 'm-')\n",
    "g = sns.lmplot(x='epoch', y='val_categorical_accuracy', hue='activation', data=df, truncate=True, order=3, size=10, aspect=1.5)\n",
    "# p = sns.lmplot(x='epoch', y='val_categorical_accuracy', col='layer', hue='activation', data=df, order=3, truncate=True, size=10)"
   ]
  },
  {
   "cell_type": "code",
   "execution_count": null,
   "metadata": {
    "collapsed": false
   },
   "outputs": [],
   "source": [
    "n = sns.lmplot(x='epoch', y='val_categorical_accuracy', hue='optimizer', data=df, truncate=True, order=3, size=10, aspect=1.5)"
   ]
  },
  {
   "cell_type": "code",
   "execution_count": null,
   "metadata": {
    "collapsed": false
   },
   "outputs": [],
   "source": [
    "g = sns.lmplot(x='epoch', y='val_categorical_accuracy', hue='use_batch_norm', data=df, truncate=True, order=3, size=10, aspect=1.5)"
   ]
  },
  {
   "cell_type": "code",
   "execution_count": null,
   "metadata": {
    "collapsed": false
   },
   "outputs": [],
   "source": [
    "g = sns.lmplot(x='epoch', y='val_categorical_accuracy', hue='activation', col='layers', data=df, truncate=True, size=10, aspect=1.5, order=4)"
   ]
  },
  {
   "cell_type": "code",
   "execution_count": null,
   "metadata": {
    "collapsed": false
   },
   "outputs": [],
   "source": [
    "for activation_name, act_dict in fd['rmsprop'].items():\n",
    "    plt.figure()\n",
    "    for k, dtl in act_dict[True].items():\n",
    "        d = dtl[-1]\n",
    "        plt.plot(d.get('epoch'),d.get('val_categorical_accuracy'), label=k)\n",
    "    plt.ylabel('validation categorical accuracy')\n",
    "    plt.xlabel('epoch')\n",
    "    plt.legend()\n",
    "    plt.title(activation_name)\n",
    "    plt.savefig(\"graphs/per_\"+str(activation_name)+\"_\"+str(k)+\".png\")\n",
    "    plt.show()"
   ]
  },
  {
   "cell_type": "code",
   "execution_count": null,
   "metadata": {
    "collapsed": false
   },
   "outputs": [],
   "source": [
    "dd = {}\n",
    "for activation_name, act_dict in fd['rmsprop'].items():\n",
    "    for k, d in act_dict[True].items():\n",
    "        if k not in dd:\n",
    "            dd[k] = {}\n",
    "        dd[k][activation_name] = d[-1]\n",
    "        \n",
    "for l, ld in dd.items():\n",
    "    plt.figure()\n",
    "    for a, d in ld.items():\n",
    "        plt.plot(d.get('epoch'),d.get('val_categorical_accuracy'), label=a)\n",
    "    plt.ylabel('validation categorical accuracy')\n",
    "    plt.xlabel('epoch')\n",
    "    plt.legend()\n",
    "    plt.title(l)\n",
    "    plt.savefig(\"graphs/per_\"+str(l)+\"_\"+str(a)+\".png\")\n",
    "    plt.show()"
   ]
  },
  {
   "cell_type": "code",
   "execution_count": 3,
   "metadata": {
    "collapsed": false
   },
   "outputs": [],
   "source": [
    "from src.utils import *"
   ]
  },
  {
   "cell_type": "code",
   "execution_count": 8,
   "metadata": {
    "collapsed": false
   },
   "outputs": [
    {
     "data": {
      "image/png": "[encoded data removed]",
      "text/plain": [
       "<matplotlib.figure.Figure at 0x7fd4421255c0>"
      ]
     },
     "metadata": {},
     "output_type": "display_data"
    }
   ],
   "source": [
    "cd = consolidate_dict_data(fd, -2, -1, 1, 'epoch', 'scoretype', filters=[(3, (5,)), ])\n",
    "plt.figure()\n",
    "for a, d in cd.items():\n",
    "    d = d[d['scoretype'] == 'val_categorical_accuracy']\n",
    "    plt.plot(d.get('epoch'),d.get('median'), label=a)\n",
    "    plt.fill_between(d.get('epoch'), d.get('mean') - d.get('std'), d.get('mean') + d.get('std'), alpha=0.3)\n",
    "plt.ylabel('validation categorical accuracy')\n",
    "plt.xlabel('epoch')\n",
    "plt.legend()\n",
    "#plt.title(l)\n",
    "#plt.savefig(\"graphs/per_\"+str(l)+\"_\"+str(a)+\".png\")\n",
    "plt.show()"
   ]
  }
 ],
 "metadata": {
  "kernelspec": {
   "display_name": "Python 3",
   "language": "python",
   "name": "python3"
  },
  "language_info": {
   "codemirror_mode": {
    "name": "ipython",
    "version": 3
   },
   "file_extension": ".py",
   "mimetype": "text/x-python",
   "name": "python",
   "nbconvert_exporter": "python",
   "pygments_lexer": "ipython3",
   "version": "3.6.3"
  }
 },
 "nbformat": 4,
 "nbformat_minor": 2
}
